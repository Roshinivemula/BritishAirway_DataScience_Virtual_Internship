{
 "cells": [
  {
   "cell_type": "markdown",
   "metadata": {},
   "source": [
    "# Task 1\n",
    "\n",
    "---\n",
    "\n",
    "## Web scraping and analysis\n",
    "\n",
    "This Jupyter notebook includes some code to get you started with web scraping. We will use a package called `BeautifulSoup` to collect the data from the web. Once you've collected your data and saved it into a local `.csv` file you should start with your analysis.\n",
    "\n",
    "### Scraping data from Skytrax\n",
    "\n",
    "If you visit [https://www.airlinequality.com] you can see that there is a lot of data there. For this task, we are only interested in reviews related to British Airways and the Airline itself.\n",
    "\n",
    "If you navigate to this link: [https://www.airlinequality.com/airline-reviews/british-airways] you will see this data. Now, we can use `Python` and `BeautifulSoup` to collect all the links to the reviews and then to collect the text data on each of the individual review links."
   ]
  },
  {
   "cell_type": "code",
   "execution_count": 2,
   "metadata": {},
   "outputs": [],
   "source": [
    "import requests\n",
    "from bs4 import BeautifulSoup\n",
    "import pandas as pd"
   ]
  },
  {
   "cell_type": "code",
   "execution_count": 3,
   "metadata": {},
   "outputs": [
    {
     "name": "stdout",
     "output_type": "stream",
     "text": [
      "Scraping page 1\n",
      "   ---> 100 total reviews\n",
      "Scraping page 2\n",
      "   ---> 200 total reviews\n",
      "Scraping page 3\n",
      "   ---> 300 total reviews\n",
      "Scraping page 4\n",
      "   ---> 400 total reviews\n",
      "Scraping page 5\n",
      "   ---> 500 total reviews\n",
      "Scraping page 6\n",
      "   ---> 600 total reviews\n",
      "Scraping page 7\n",
      "   ---> 700 total reviews\n",
      "Scraping page 8\n",
      "   ---> 800 total reviews\n",
      "Scraping page 9\n",
      "   ---> 900 total reviews\n",
      "Scraping page 10\n",
      "   ---> 1000 total reviews\n"
     ]
    }
   ],
   "source": [
    "base_url = \"https://www.airlinequality.com/airline-reviews/british-airways\"\n",
    "pages = 10\n",
    "page_size = 100\n",
    "\n",
    "reviews = []\n",
    "\n",
    "# for i in range(1, pages + 1):\n",
    "for i in range(1, pages + 1):\n",
    "\n",
    "    print(f\"Scraping page {i}\")\n",
    "\n",
    "    # Create URL to collect links from paginated data\n",
    "    url = f\"{base_url}/page/{i}/?sortby=post_date%3ADesc&pagesize={page_size}\"\n",
    "\n",
    "    # Collect HTML data from this page\n",
    "    response = requests.get(url)\n",
    "\n",
    "    # Parse content\n",
    "    content = response.content\n",
    "    parsed_content = BeautifulSoup(content, 'html.parser')\n",
    "    for para in parsed_content.find_all(\"div\", {\"class\": \"text_content\"}):\n",
    "        reviews.append(para.get_text())\n",
    "    \n",
    "    print(f\"   ---> {len(reviews)} total reviews\")"
   ]
  },
  {
   "cell_type": "code",
   "execution_count": 5,
   "metadata": {},
   "outputs": [
    {
     "data": {
      "text/html": [
       "<div>\n",
       "<style scoped>\n",
       "    .dataframe tbody tr th:only-of-type {\n",
       "        vertical-align: middle;\n",
       "    }\n",
       "\n",
       "    .dataframe tbody tr th {\n",
       "        vertical-align: top;\n",
       "    }\n",
       "\n",
       "    .dataframe thead th {\n",
       "        text-align: right;\n",
       "    }\n",
       "</style>\n",
       "<table border=\"1\" class=\"dataframe\">\n",
       "  <thead>\n",
       "    <tr style=\"text-align: right;\">\n",
       "      <th></th>\n",
       "      <th>reviews</th>\n",
       "    </tr>\n",
       "  </thead>\n",
       "  <tbody>\n",
       "    <tr>\n",
       "      <th>0</th>\n",
       "      <td>Not Verified |  We had a Premium Economy retur...</td>\n",
       "    </tr>\n",
       "    <tr>\n",
       "      <th>1</th>\n",
       "      <td>✅ Trip Verified |  I should like to review my ...</td>\n",
       "    </tr>\n",
       "    <tr>\n",
       "      <th>2</th>\n",
       "      <td>✅ Trip Verified | We have flown with British A...</td>\n",
       "    </tr>\n",
       "    <tr>\n",
       "      <th>3</th>\n",
       "      <td>✅ Trip Verified | I sat in the plane at Vienna...</td>\n",
       "    </tr>\n",
       "    <tr>\n",
       "      <th>4</th>\n",
       "      <td>✅ Trip Verified | It is almost 11pm we were su...</td>\n",
       "    </tr>\n",
       "  </tbody>\n",
       "</table>\n",
       "</div>"
      ],
      "text/plain": [
       "                                             reviews\n",
       "0  Not Verified |  We had a Premium Economy retur...\n",
       "1  ✅ Trip Verified |  I should like to review my ...\n",
       "2  ✅ Trip Verified | We have flown with British A...\n",
       "3  ✅ Trip Verified | I sat in the plane at Vienna...\n",
       "4  ✅ Trip Verified | It is almost 11pm we were su..."
      ]
     },
     "execution_count": 5,
     "metadata": {},
     "output_type": "execute_result"
    }
   ],
   "source": [
    "df = pd.DataFrame()\n",
    "df[\"reviews\"] = reviews\n",
    "df.head()"
   ]
  },
  {
   "cell_type": "code",
   "execution_count": 6,
   "metadata": {},
   "outputs": [
    {
     "data": {
      "text/html": [
       "<div>\n",
       "<style scoped>\n",
       "    .dataframe tbody tr th:only-of-type {\n",
       "        vertical-align: middle;\n",
       "    }\n",
       "\n",
       "    .dataframe tbody tr th {\n",
       "        vertical-align: top;\n",
       "    }\n",
       "\n",
       "    .dataframe thead th {\n",
       "        text-align: right;\n",
       "    }\n",
       "</style>\n",
       "<table border=\"1\" class=\"dataframe\">\n",
       "  <thead>\n",
       "    <tr style=\"text-align: right;\">\n",
       "      <th></th>\n",
       "      <th>reviews</th>\n",
       "    </tr>\n",
       "  </thead>\n",
       "  <tbody>\n",
       "    <tr>\n",
       "      <th>0</th>\n",
       "      <td>Not Verified |  We had a Premium Economy retur...</td>\n",
       "    </tr>\n",
       "    <tr>\n",
       "      <th>1</th>\n",
       "      <td>✅ Trip Verified |  I should like to review my ...</td>\n",
       "    </tr>\n",
       "    <tr>\n",
       "      <th>2</th>\n",
       "      <td>✅ Trip Verified | We have flown with British A...</td>\n",
       "    </tr>\n",
       "    <tr>\n",
       "      <th>3</th>\n",
       "      <td>✅ Trip Verified | I sat in the plane at Vienna...</td>\n",
       "    </tr>\n",
       "    <tr>\n",
       "      <th>4</th>\n",
       "      <td>✅ Trip Verified | It is almost 11pm we were su...</td>\n",
       "    </tr>\n",
       "    <tr>\n",
       "      <th>...</th>\n",
       "      <td>...</td>\n",
       "    </tr>\n",
       "    <tr>\n",
       "      <th>995</th>\n",
       "      <td>✅ Trip Verified |  Gatwick to Dubrovnik. Overc...</td>\n",
       "    </tr>\n",
       "    <tr>\n",
       "      <th>996</th>\n",
       "      <td>✅ Trip Verified |  I paid an extra £500 for tw...</td>\n",
       "    </tr>\n",
       "    <tr>\n",
       "      <th>997</th>\n",
       "      <td>✅ Trip Verified |  Faro to Heathrow. Flight wa...</td>\n",
       "    </tr>\n",
       "    <tr>\n",
       "      <th>998</th>\n",
       "      <td>✅ Trip Verified | Vancouver to London. An exce...</td>\n",
       "    </tr>\n",
       "    <tr>\n",
       "      <th>999</th>\n",
       "      <td>✅ Trip Verified |  Gatwick to Tenerife. All so...</td>\n",
       "    </tr>\n",
       "  </tbody>\n",
       "</table>\n",
       "<p>1000 rows × 1 columns</p>\n",
       "</div>"
      ],
      "text/plain": [
       "                                               reviews\n",
       "0    Not Verified |  We had a Premium Economy retur...\n",
       "1    ✅ Trip Verified |  I should like to review my ...\n",
       "2    ✅ Trip Verified | We have flown with British A...\n",
       "3    ✅ Trip Verified | I sat in the plane at Vienna...\n",
       "4    ✅ Trip Verified | It is almost 11pm we were su...\n",
       "..                                                 ...\n",
       "995  ✅ Trip Verified |  Gatwick to Dubrovnik. Overc...\n",
       "996  ✅ Trip Verified |  I paid an extra £500 for tw...\n",
       "997  ✅ Trip Verified |  Faro to Heathrow. Flight wa...\n",
       "998  ✅ Trip Verified | Vancouver to London. An exce...\n",
       "999  ✅ Trip Verified |  Gatwick to Tenerife. All so...\n",
       "\n",
       "[1000 rows x 1 columns]"
      ]
     },
     "execution_count": 6,
     "metadata": {},
     "output_type": "execute_result"
    }
   ],
   "source": [
    "df"
   ]
  },
  {
   "cell_type": "code",
   "execution_count": 8,
   "metadata": {},
   "outputs": [],
   "source": [
    "#df.to_csv(\"data/BA_reviews.csv\")"
   ]
  },
  {
   "cell_type": "markdown",
   "metadata": {},
   "source": [
    "Congratulations! Now you have your dataset for this task! The loops above collected 1000 reviews by iterating through the paginated pages on the website. However, if you want to collect more data, try increasing the number of pages!\n",
    "\n",
    " The next thing that you should do is clean this data to remove any unnecessary text from each of the rows. For example, \"✅ Trip Verified\" can be removed from each row if it exists, as it's not relevant to what we want to investigate."
   ]
  },
  {
   "cell_type": "markdown",
   "metadata": {},
   "source": [
    "Removing the parts before | in the review column"
   ]
  },
  {
   "cell_type": "code",
   "execution_count": 9,
   "metadata": {},
   "outputs": [],
   "source": [
    "df.reviews= df.reviews.str.split('|',expand=True)[1]"
   ]
  },
  {
   "cell_type": "code",
   "execution_count": 10,
   "metadata": {},
   "outputs": [
    {
     "data": {
      "text/html": [
       "<div>\n",
       "<style scoped>\n",
       "    .dataframe tbody tr th:only-of-type {\n",
       "        vertical-align: middle;\n",
       "    }\n",
       "\n",
       "    .dataframe tbody tr th {\n",
       "        vertical-align: top;\n",
       "    }\n",
       "\n",
       "    .dataframe thead th {\n",
       "        text-align: right;\n",
       "    }\n",
       "</style>\n",
       "<table border=\"1\" class=\"dataframe\">\n",
       "  <thead>\n",
       "    <tr style=\"text-align: right;\">\n",
       "      <th></th>\n",
       "      <th>reviews</th>\n",
       "    </tr>\n",
       "  </thead>\n",
       "  <tbody>\n",
       "    <tr>\n",
       "      <th>0</th>\n",
       "      <td>We had a Premium Economy return flight Los A...</td>\n",
       "    </tr>\n",
       "    <tr>\n",
       "      <th>1</th>\n",
       "      <td>I should like to review my flight with Briti...</td>\n",
       "    </tr>\n",
       "    <tr>\n",
       "      <th>2</th>\n",
       "      <td>We have flown with British Airways a few time...</td>\n",
       "    </tr>\n",
       "    <tr>\n",
       "      <th>3</th>\n",
       "      <td>I sat in the plane at Vienna airport for thre...</td>\n",
       "    </tr>\n",
       "    <tr>\n",
       "      <th>4</th>\n",
       "      <td>It is almost 11pm we were supposed to take of...</td>\n",
       "    </tr>\n",
       "    <tr>\n",
       "      <th>...</th>\n",
       "      <td>...</td>\n",
       "    </tr>\n",
       "    <tr>\n",
       "      <th>995</th>\n",
       "      <td>Gatwick to Dubrovnik. Overcrowded lounges, b...</td>\n",
       "    </tr>\n",
       "    <tr>\n",
       "      <th>996</th>\n",
       "      <td>I paid an extra £500 for two Premium economy...</td>\n",
       "    </tr>\n",
       "    <tr>\n",
       "      <th>997</th>\n",
       "      <td>Faro to Heathrow. Flight was very good no is...</td>\n",
       "    </tr>\n",
       "    <tr>\n",
       "      <th>998</th>\n",
       "      <td>Vancouver to London. An excellent flight on B...</td>\n",
       "    </tr>\n",
       "    <tr>\n",
       "      <th>999</th>\n",
       "      <td>Gatwick to Tenerife. All so wrong. Lounge re...</td>\n",
       "    </tr>\n",
       "  </tbody>\n",
       "</table>\n",
       "<p>1000 rows × 1 columns</p>\n",
       "</div>"
      ],
      "text/plain": [
       "                                               reviews\n",
       "0      We had a Premium Economy return flight Los A...\n",
       "1      I should like to review my flight with Briti...\n",
       "2     We have flown with British Airways a few time...\n",
       "3     I sat in the plane at Vienna airport for thre...\n",
       "4     It is almost 11pm we were supposed to take of...\n",
       "..                                                 ...\n",
       "995    Gatwick to Dubrovnik. Overcrowded lounges, b...\n",
       "996    I paid an extra £500 for two Premium economy...\n",
       "997    Faro to Heathrow. Flight was very good no is...\n",
       "998   Vancouver to London. An excellent flight on B...\n",
       "999    Gatwick to Tenerife. All so wrong. Lounge re...\n",
       "\n",
       "[1000 rows x 1 columns]"
      ]
     },
     "execution_count": 10,
     "metadata": {},
     "output_type": "execute_result"
    }
   ],
   "source": [
    "df"
   ]
  },
  {
   "cell_type": "markdown",
   "metadata": {},
   "source": [
    "#### Rule-based approach"
   ]
  },
  {
   "cell_type": "markdown",
   "metadata": {},
   "source": [
    "This is a practical approach to analyzing text without training or using machine learning models. The result of this approach is a set of rules based on which the text is labeled as positive/negative/neutral. These rules are also known as lexicons. Hence, the Rule-based approach is called Lexicon based approach.\n",
    "\n",
    "Widely used lexicon-based approaches are TextBlob, VADER, SentiWordNet."
   ]
  },
  {
   "cell_type": "markdown",
   "metadata": {},
   "source": [
    "### Data Preprocessing steps are:"
   ]
  },
  {
   "cell_type": "markdown",
   "metadata": {},
   "source": [
    "1) Cleaning the text\n",
    "2) Tokenization\n",
    "3) POS tagging\n",
    "4) Stopword Removals\n",
    "5) Obtaining the stem words"
   ]
  },
  {
   "cell_type": "markdown",
   "metadata": {},
   "source": [
    "## Step1: Cleaning the text "
   ]
  },
  {
   "cell_type": "code",
   "execution_count": 11,
   "metadata": {},
   "outputs": [
    {
     "data": {
      "text/html": [
       "<div>\n",
       "<style scoped>\n",
       "    .dataframe tbody tr th:only-of-type {\n",
       "        vertical-align: middle;\n",
       "    }\n",
       "\n",
       "    .dataframe tbody tr th {\n",
       "        vertical-align: top;\n",
       "    }\n",
       "\n",
       "    .dataframe thead th {\n",
       "        text-align: right;\n",
       "    }\n",
       "</style>\n",
       "<table border=\"1\" class=\"dataframe\">\n",
       "  <thead>\n",
       "    <tr style=\"text-align: right;\">\n",
       "      <th></th>\n",
       "      <th>reviews</th>\n",
       "      <th>Cleaned Reviews</th>\n",
       "    </tr>\n",
       "  </thead>\n",
       "  <tbody>\n",
       "    <tr>\n",
       "      <th>0</th>\n",
       "      <td>We had a Premium Economy return flight Los A...</td>\n",
       "      <td>We had a Premium Economy return flight Los An...</td>\n",
       "    </tr>\n",
       "    <tr>\n",
       "      <th>1</th>\n",
       "      <td>I should like to review my flight with Briti...</td>\n",
       "      <td>I should like to review my flight with Britis...</td>\n",
       "    </tr>\n",
       "    <tr>\n",
       "      <th>2</th>\n",
       "      <td>We have flown with British Airways a few time...</td>\n",
       "      <td>We have flown with British Airways a few time...</td>\n",
       "    </tr>\n",
       "    <tr>\n",
       "      <th>3</th>\n",
       "      <td>I sat in the plane at Vienna airport for thre...</td>\n",
       "      <td>I sat in the plane at Vienna airport for thre...</td>\n",
       "    </tr>\n",
       "    <tr>\n",
       "      <th>4</th>\n",
       "      <td>It is almost 11pm we were supposed to take of...</td>\n",
       "      <td>It is almost pm we were supposed to take off ...</td>\n",
       "    </tr>\n",
       "  </tbody>\n",
       "</table>\n",
       "</div>"
      ],
      "text/plain": [
       "                                             reviews  \\\n",
       "0    We had a Premium Economy return flight Los A...   \n",
       "1    I should like to review my flight with Briti...   \n",
       "2   We have flown with British Airways a few time...   \n",
       "3   I sat in the plane at Vienna airport for thre...   \n",
       "4   It is almost 11pm we were supposed to take of...   \n",
       "\n",
       "                                     Cleaned Reviews  \n",
       "0   We had a Premium Economy return flight Los An...  \n",
       "1   I should like to review my flight with Britis...  \n",
       "2   We have flown with British Airways a few time...  \n",
       "3   I sat in the plane at Vienna airport for thre...  \n",
       "4   It is almost pm we were supposed to take off ...  "
      ]
     },
     "execution_count": 11,
     "metadata": {},
     "output_type": "execute_result"
    }
   ],
   "source": [
    "import re\n",
    "\n",
    "# Define a function to clean the text\n",
    "def clean(text):\n",
    "# Removes all special characters and numericals leaving the alphabets\n",
    "    text = re.sub('[^A-Za-z]+', ' ', str(text))\n",
    "    return text\n",
    "\n",
    "# Cleaning the text in the review column\n",
    "df['Cleaned Reviews'] = df['reviews'].apply(clean)\n",
    "df.head()"
   ]
  },
  {
   "cell_type": "markdown",
   "metadata": {},
   "source": [
    "## Step2: Tokenization "
   ]
  },
  {
   "cell_type": "markdown",
   "metadata": {},
   "source": [
    "Tokenization is the process of breaking the text into smaller pieces called Tokens. It can be performed at sentences(sentence tokenization) or word level(word tokenization)."
   ]
  },
  {
   "cell_type": "markdown",
   "metadata": {},
   "source": [
    "## Step3: Enrichment - POS tagging"
   ]
  },
  {
   "cell_type": "markdown",
   "metadata": {},
   "source": [
    "Parts of Speech (POS) tagging is a process of converting each token into a tuple having the form (word, tag). POS tagging essential to preserve the context of the word and is essential for Lemmatization."
   ]
  },
  {
   "cell_type": "markdown",
   "metadata": {},
   "source": [
    "## Step4: Stopwords removal "
   ]
  },
  {
   "cell_type": "markdown",
   "metadata": {},
   "source": [
    "Stopwords in English are words that carry very little useful information. We need to remove them as part of text preprocessing. nltk has a list of stopwords of every language. "
   ]
  },
  {
   "cell_type": "markdown",
   "metadata": {},
   "source": [
    "## Step5: Obtaining the steam words  "
   ]
  },
  {
   "cell_type": "markdown",
   "metadata": {},
   "source": [
    "A stem is a part of a word responsible for its lexical meaning. The two popular techniques of obtaining the root/stem words are Stemming and Lemmatization.\n",
    "\n",
    "The key difference is Stemming often gives some meaningless root words as it simply chops off some characters in the end. Lemmatization gives meaningful root words, however, it requires POS tags of the words."
   ]
  },
  {
   "cell_type": "raw",
   "metadata": {},
   "source": [
    "NLTK is a leading platform for building Python programs to work with human language data. "
   ]
  },
  {
   "cell_type": "raw",
   "metadata": {},
   "source": [
    "It provides easy-to-use interfaces to over 50 corpora and lexical resources such as WordNet, along \n",
    "with a suite of text processing libraries for classification, tokenization, stemming, tagging, \n",
    "parsing, and semantic reasoning, wrappers for industrial-strength NLP libraries"
   ]
  },
  {
   "cell_type": "code",
   "execution_count": 13,
   "metadata": {},
   "outputs": [
    {
     "name": "stderr",
     "output_type": "stream",
     "text": [
      "[nltk_data] Downloading package punkt to\n",
      "[nltk_data]     C:\\Users\\HP\\AppData\\Roaming\\nltk_data...\n",
      "[nltk_data]   Unzipping tokenizers\\punkt.zip.\n",
      "[nltk_data] Downloading package stopwords to\n",
      "[nltk_data]     C:\\Users\\HP\\AppData\\Roaming\\nltk_data...\n",
      "[nltk_data]   Package stopwords is already up-to-date!\n",
      "[nltk_data] Downloading package wordnet to\n",
      "[nltk_data]     C:\\Users\\HP\\AppData\\Roaming\\nltk_data...\n"
     ]
    }
   ],
   "source": [
    "import nltk\n",
    "\n",
    "\"\"\"This punkt tokenizer divides a text into a list of sentences by using an unsupervised algorithm to build a model for abbreviation words, \n",
    "collocations, and words that start sentences. \"\"\"\n",
    "\n",
    "nltk.download('punkt')\n",
    "from nltk.tokenize import word_tokenize\n",
    "from nltk import pos_tag\n",
    "nltk.download('stopwords')\n",
    "from nltk.corpus import stopwords\n",
    "nltk.download('wordnet')\n",
    "from nltk.corpus import wordnet"
   ]
  },
  {
   "cell_type": "code",
   "execution_count": 15,
   "metadata": {},
   "outputs": [
    {
     "name": "stderr",
     "output_type": "stream",
     "text": [
      "[nltk_data] Downloading package omw-1.4 to\n",
      "[nltk_data]     C:\\Users\\HP\\AppData\\Roaming\\nltk_data...\n",
      "[nltk_data] Downloading package averaged_perceptron_tagger to\n",
      "[nltk_data]     C:\\Users\\HP\\AppData\\Roaming\\nltk_data...\n",
      "[nltk_data]   Unzipping taggers\\averaged_perceptron_tagger.zip.\n"
     ]
    },
    {
     "data": {
      "text/html": [
       "<div>\n",
       "<style scoped>\n",
       "    .dataframe tbody tr th:only-of-type {\n",
       "        vertical-align: middle;\n",
       "    }\n",
       "\n",
       "    .dataframe tbody tr th {\n",
       "        vertical-align: top;\n",
       "    }\n",
       "\n",
       "    .dataframe thead th {\n",
       "        text-align: right;\n",
       "    }\n",
       "</style>\n",
       "<table border=\"1\" class=\"dataframe\">\n",
       "  <thead>\n",
       "    <tr style=\"text-align: right;\">\n",
       "      <th></th>\n",
       "      <th>reviews</th>\n",
       "      <th>Cleaned Reviews</th>\n",
       "      <th>POS tagged</th>\n",
       "    </tr>\n",
       "  </thead>\n",
       "  <tbody>\n",
       "    <tr>\n",
       "      <th>0</th>\n",
       "      <td>We had a Premium Economy return flight Los A...</td>\n",
       "      <td>We had a Premium Economy return flight Los An...</td>\n",
       "      <td>[(Premium, a), (Economy, n), (return, n), (fli...</td>\n",
       "    </tr>\n",
       "    <tr>\n",
       "      <th>1</th>\n",
       "      <td>I should like to review my flight with Briti...</td>\n",
       "      <td>I should like to review my flight with Britis...</td>\n",
       "      <td>[(like, v), (review, v), (flight, n), (British...</td>\n",
       "    </tr>\n",
       "    <tr>\n",
       "      <th>2</th>\n",
       "      <td>We have flown with British Airways a few time...</td>\n",
       "      <td>We have flown with British Airways a few time...</td>\n",
       "      <td>[(flown, v), (British, n), (Airways, n), (time...</td>\n",
       "    </tr>\n",
       "    <tr>\n",
       "      <th>3</th>\n",
       "      <td>I sat in the plane at Vienna airport for thre...</td>\n",
       "      <td>I sat in the plane at Vienna airport for thre...</td>\n",
       "      <td>[(sat, v), (plane, n), (Vienna, n), (airport, ...</td>\n",
       "    </tr>\n",
       "    <tr>\n",
       "      <th>4</th>\n",
       "      <td>It is almost 11pm we were supposed to take of...</td>\n",
       "      <td>It is almost pm we were supposed to take off ...</td>\n",
       "      <td>[(almost, r), (pm, None), (supposed, v), (take...</td>\n",
       "    </tr>\n",
       "  </tbody>\n",
       "</table>\n",
       "</div>"
      ],
      "text/plain": [
       "                                             reviews  \\\n",
       "0    We had a Premium Economy return flight Los A...   \n",
       "1    I should like to review my flight with Briti...   \n",
       "2   We have flown with British Airways a few time...   \n",
       "3   I sat in the plane at Vienna airport for thre...   \n",
       "4   It is almost 11pm we were supposed to take of...   \n",
       "\n",
       "                                     Cleaned Reviews  \\\n",
       "0   We had a Premium Economy return flight Los An...   \n",
       "1   I should like to review my flight with Britis...   \n",
       "2   We have flown with British Airways a few time...   \n",
       "3   I sat in the plane at Vienna airport for thre...   \n",
       "4   It is almost pm we were supposed to take off ...   \n",
       "\n",
       "                                          POS tagged  \n",
       "0  [(Premium, a), (Economy, n), (return, n), (fli...  \n",
       "1  [(like, v), (review, v), (flight, n), (British...  \n",
       "2  [(flown, v), (British, n), (Airways, n), (time...  \n",
       "3  [(sat, v), (plane, n), (Vienna, n), (airport, ...  \n",
       "4  [(almost, r), (pm, None), (supposed, v), (take...  "
      ]
     },
     "execution_count": 15,
     "metadata": {},
     "output_type": "execute_result"
    }
   ],
   "source": [
    "#The nltk.corpus package defines a collection of corpus reader classes, which can be used to access the contents of a diverse set of corpora.\n",
    "nltk.download('omw-1.4')\n",
    "nltk.download('averaged_perceptron_tagger')\n",
    "\n",
    "# POS tagger dictionary\n",
    "pos_dict = {'J':wordnet.ADJ, 'V':wordnet.VERB, 'N':wordnet.NOUN, 'R':wordnet.ADV}\n",
    "def token_stop_pos(text):\n",
    "    tags = pos_tag(word_tokenize(text))\n",
    "    #print(tags)\n",
    "    newlist = []\n",
    "    for word, tag in tags:\n",
    "        if word.lower() not in set(stopwords.words('english')):\n",
    "          newlist.append(tuple([word, pos_dict.get(tag[0])]))\n",
    "          #print(tag[0])\n",
    "          #print(pos_dict.get(tag[0]))\n",
    "    return newlist \n",
    "\n",
    "df['POS tagged'] = df['Cleaned Reviews'].apply(token_stop_pos)\n",
    "df.head() "
   ]
  },
  {
   "cell_type": "code",
   "execution_count": 16,
   "metadata": {},
   "outputs": [
    {
     "data": {
      "text/html": [
       "<div>\n",
       "<style scoped>\n",
       "    .dataframe tbody tr th:only-of-type {\n",
       "        vertical-align: middle;\n",
       "    }\n",
       "\n",
       "    .dataframe tbody tr th {\n",
       "        vertical-align: top;\n",
       "    }\n",
       "\n",
       "    .dataframe thead th {\n",
       "        text-align: right;\n",
       "    }\n",
       "</style>\n",
       "<table border=\"1\" class=\"dataframe\">\n",
       "  <thead>\n",
       "    <tr style=\"text-align: right;\">\n",
       "      <th></th>\n",
       "      <th>reviews</th>\n",
       "      <th>Cleaned Reviews</th>\n",
       "      <th>POS tagged</th>\n",
       "      <th>Lemma</th>\n",
       "    </tr>\n",
       "  </thead>\n",
       "  <tbody>\n",
       "    <tr>\n",
       "      <th>0</th>\n",
       "      <td>We had a Premium Economy return flight Los A...</td>\n",
       "      <td>We had a Premium Economy return flight Los An...</td>\n",
       "      <td>[(Premium, a), (Economy, n), (return, n), (fli...</td>\n",
       "      <td>Premium Economy return flight Los Angeles Lo...</td>\n",
       "    </tr>\n",
       "    <tr>\n",
       "      <th>1</th>\n",
       "      <td>I should like to review my flight with Briti...</td>\n",
       "      <td>I should like to review my flight with Britis...</td>\n",
       "      <td>[(like, v), (review, v), (flight, n), (British...</td>\n",
       "      <td>like review flight British Airways Hannover ...</td>\n",
       "    </tr>\n",
       "    <tr>\n",
       "      <th>2</th>\n",
       "      <td>We have flown with British Airways a few time...</td>\n",
       "      <td>We have flown with British Airways a few time...</td>\n",
       "      <td>[(flown, v), (British, n), (Airways, n), (time...</td>\n",
       "      <td>fly British Airways time last trip far bad e...</td>\n",
       "    </tr>\n",
       "    <tr>\n",
       "      <th>3</th>\n",
       "      <td>I sat in the plane at Vienna airport for thre...</td>\n",
       "      <td>I sat in the plane at Vienna airport for thre...</td>\n",
       "      <td>[(sat, v), (plane, n), (Vienna, n), (airport, ...</td>\n",
       "      <td>sit plane Vienna airport three hour take arr...</td>\n",
       "    </tr>\n",
       "    <tr>\n",
       "      <th>4</th>\n",
       "      <td>It is almost 11pm we were supposed to take of...</td>\n",
       "      <td>It is almost pm we were supposed to take off ...</td>\n",
       "      <td>[(almost, r), (pm, None), (supposed, v), (take...</td>\n",
       "      <td>almost pm suppose take still sit plane airpo...</td>\n",
       "    </tr>\n",
       "  </tbody>\n",
       "</table>\n",
       "</div>"
      ],
      "text/plain": [
       "                                             reviews  \\\n",
       "0    We had a Premium Economy return flight Los A...   \n",
       "1    I should like to review my flight with Briti...   \n",
       "2   We have flown with British Airways a few time...   \n",
       "3   I sat in the plane at Vienna airport for thre...   \n",
       "4   It is almost 11pm we were supposed to take of...   \n",
       "\n",
       "                                     Cleaned Reviews  \\\n",
       "0   We had a Premium Economy return flight Los An...   \n",
       "1   I should like to review my flight with Britis...   \n",
       "2   We have flown with British Airways a few time...   \n",
       "3   I sat in the plane at Vienna airport for thre...   \n",
       "4   It is almost pm we were supposed to take off ...   \n",
       "\n",
       "                                          POS tagged  \\\n",
       "0  [(Premium, a), (Economy, n), (return, n), (fli...   \n",
       "1  [(like, v), (review, v), (flight, n), (British...   \n",
       "2  [(flown, v), (British, n), (Airways, n), (time...   \n",
       "3  [(sat, v), (plane, n), (Vienna, n), (airport, ...   \n",
       "4  [(almost, r), (pm, None), (supposed, v), (take...   \n",
       "\n",
       "                                               Lemma  \n",
       "0    Premium Economy return flight Los Angeles Lo...  \n",
       "1    like review flight British Airways Hannover ...  \n",
       "2    fly British Airways time last trip far bad e...  \n",
       "3    sit plane Vienna airport three hour take arr...  \n",
       "4    almost pm suppose take still sit plane airpo...  "
      ]
     },
     "execution_count": 16,
     "metadata": {},
     "output_type": "execute_result"
    }
   ],
   "source": [
    "# Obtaining the stem words – Lemmatization\n",
    "\n",
    "from nltk.stem import WordNetLemmatizer\n",
    "wordnet_lemmatizer = WordNetLemmatizer()\n",
    "def lemmatize(pos_data):\n",
    "    lemma_rew = \" \"\n",
    "    for word, pos in pos_data:\n",
    "     if not pos:\n",
    "        lemma = word\n",
    "        lemma_rew = lemma_rew + \" \" + lemma\n",
    "     else:\n",
    "        lemma = wordnet_lemmatizer.lemmatize(word, pos=pos)\n",
    "        lemma_rew = lemma_rew + \" \" + lemma\n",
    "    return lemma_rew\n",
    "\n",
    "df['Lemma'] = df['POS tagged'].apply(lemmatize)\n",
    "df.head()"
   ]
  },
  {
   "cell_type": "code",
   "execution_count": 18,
   "metadata": {},
   "outputs": [
    {
     "data": {
      "text/html": [
       "<div>\n",
       "<style scoped>\n",
       "    .dataframe tbody tr th:only-of-type {\n",
       "        vertical-align: middle;\n",
       "    }\n",
       "\n",
       "    .dataframe tbody tr th {\n",
       "        vertical-align: top;\n",
       "    }\n",
       "\n",
       "    .dataframe thead th {\n",
       "        text-align: right;\n",
       "    }\n",
       "</style>\n",
       "<table border=\"1\" class=\"dataframe\">\n",
       "  <thead>\n",
       "    <tr style=\"text-align: right;\">\n",
       "      <th></th>\n",
       "      <th>reviews</th>\n",
       "      <th>Lemma</th>\n",
       "    </tr>\n",
       "  </thead>\n",
       "  <tbody>\n",
       "    <tr>\n",
       "      <th>0</th>\n",
       "      <td>We had a Premium Economy return flight Los A...</td>\n",
       "      <td>Premium Economy return flight Los Angeles Lo...</td>\n",
       "    </tr>\n",
       "    <tr>\n",
       "      <th>1</th>\n",
       "      <td>I should like to review my flight with Briti...</td>\n",
       "      <td>like review flight British Airways Hannover ...</td>\n",
       "    </tr>\n",
       "    <tr>\n",
       "      <th>2</th>\n",
       "      <td>We have flown with British Airways a few time...</td>\n",
       "      <td>fly British Airways time last trip far bad e...</td>\n",
       "    </tr>\n",
       "    <tr>\n",
       "      <th>3</th>\n",
       "      <td>I sat in the plane at Vienna airport for thre...</td>\n",
       "      <td>sit plane Vienna airport three hour take arr...</td>\n",
       "    </tr>\n",
       "    <tr>\n",
       "      <th>4</th>\n",
       "      <td>It is almost 11pm we were supposed to take of...</td>\n",
       "      <td>almost pm suppose take still sit plane airpo...</td>\n",
       "    </tr>\n",
       "    <tr>\n",
       "      <th>...</th>\n",
       "      <td>...</td>\n",
       "      <td>...</td>\n",
       "    </tr>\n",
       "    <tr>\n",
       "      <th>995</th>\n",
       "      <td>Gatwick to Dubrovnik. Overcrowded lounges, b...</td>\n",
       "      <td>Gatwick Dubrovnik Overcrowded lounge busines...</td>\n",
       "    </tr>\n",
       "    <tr>\n",
       "      <th>996</th>\n",
       "      <td>I paid an extra £500 for two Premium economy...</td>\n",
       "      <td>pay extra two Premium economy seat long haul...</td>\n",
       "    </tr>\n",
       "    <tr>\n",
       "      <th>997</th>\n",
       "      <td>Faro to Heathrow. Flight was very good no is...</td>\n",
       "      <td>Faro Heathrow Flight good issue yet baggage ...</td>\n",
       "    </tr>\n",
       "    <tr>\n",
       "      <th>998</th>\n",
       "      <td>Vancouver to London. An excellent flight on B...</td>\n",
       "      <td>Vancouver London excellent flight BA travel ...</td>\n",
       "    </tr>\n",
       "    <tr>\n",
       "      <th>999</th>\n",
       "      <td>Gatwick to Tenerife. All so wrong. Lounge re...</td>\n",
       "      <td>Gatwick Tenerife wrong Lounge really overcro...</td>\n",
       "    </tr>\n",
       "  </tbody>\n",
       "</table>\n",
       "<p>1000 rows × 2 columns</p>\n",
       "</div>"
      ],
      "text/plain": [
       "                                               reviews  \\\n",
       "0      We had a Premium Economy return flight Los A...   \n",
       "1      I should like to review my flight with Briti...   \n",
       "2     We have flown with British Airways a few time...   \n",
       "3     I sat in the plane at Vienna airport for thre...   \n",
       "4     It is almost 11pm we were supposed to take of...   \n",
       "..                                                 ...   \n",
       "995    Gatwick to Dubrovnik. Overcrowded lounges, b...   \n",
       "996    I paid an extra £500 for two Premium economy...   \n",
       "997    Faro to Heathrow. Flight was very good no is...   \n",
       "998   Vancouver to London. An excellent flight on B...   \n",
       "999    Gatwick to Tenerife. All so wrong. Lounge re...   \n",
       "\n",
       "                                                 Lemma  \n",
       "0      Premium Economy return flight Los Angeles Lo...  \n",
       "1      like review flight British Airways Hannover ...  \n",
       "2      fly British Airways time last trip far bad e...  \n",
       "3      sit plane Vienna airport three hour take arr...  \n",
       "4      almost pm suppose take still sit plane airpo...  \n",
       "..                                                 ...  \n",
       "995    Gatwick Dubrovnik Overcrowded lounge busines...  \n",
       "996    pay extra two Premium economy seat long haul...  \n",
       "997    Faro Heathrow Flight good issue yet baggage ...  \n",
       "998    Vancouver London excellent flight BA travel ...  \n",
       "999    Gatwick Tenerife wrong Lounge really overcro...  \n",
       "\n",
       "[1000 rows x 2 columns]"
      ]
     },
     "execution_count": 18,
     "metadata": {},
     "output_type": "execute_result"
    }
   ],
   "source": [
    "df[['reviews','Lemma']]"
   ]
  },
  {
   "cell_type": "markdown",
   "metadata": {},
   "source": [
    "## Sentiment Analysis using VADER "
   ]
  },
  {
   "cell_type": "markdown",
   "metadata": {},
   "source": [
    "VADER stands for Valence Aware Dictionary and Sentiment Reasoner.\n",
    "\n",
    "Vader sentiment not only tells if the statement is positive or negative along with the intensity of emotion."
   ]
  },
  {
   "cell_type": "code",
   "execution_count": 19,
   "metadata": {},
   "outputs": [
    {
     "name": "stdout",
     "output_type": "stream",
     "text": [
      "Collecting vaderSentiment\n",
      "  Downloading vaderSentiment-3.3.2-py2.py3-none-any.whl.metadata (572 bytes)\n",
      "Requirement already satisfied: requests in c:\\users\\hp\\anaconda3\\lib\\site-packages (from vaderSentiment) (2.27.1)\n",
      "Requirement already satisfied: urllib3<1.27,>=1.21.1 in c:\\users\\hp\\anaconda3\\lib\\site-packages (from requests->vaderSentiment) (1.26.9)\n",
      "Requirement already satisfied: certifi>=2017.4.17 in c:\\users\\hp\\anaconda3\\lib\\site-packages (from requests->vaderSentiment) (2021.10.8)\n",
      "Requirement already satisfied: charset-normalizer~=2.0.0 in c:\\users\\hp\\anaconda3\\lib\\site-packages (from requests->vaderSentiment) (2.0.4)\n",
      "Requirement already satisfied: idna<4,>=2.5 in c:\\users\\hp\\anaconda3\\lib\\site-packages (from requests->vaderSentiment) (3.3)\n",
      "Downloading vaderSentiment-3.3.2-py2.py3-none-any.whl (125 kB)\n",
      "   -------------------------------------- 126.0/126.0 kB 676.7 kB/s eta 0:00:00\n",
      "Installing collected packages: vaderSentiment\n",
      "Successfully installed vaderSentiment-3.3.2\n"
     ]
    }
   ],
   "source": [
    "!pip install vaderSentiment"
   ]
  },
  {
   "cell_type": "code",
   "execution_count": 20,
   "metadata": {},
   "outputs": [],
   "source": [
    "from vaderSentiment.vaderSentiment import SentimentIntensityAnalyzer\n",
    "analyzer = SentimentIntensityAnalyzer()"
   ]
  },
  {
   "cell_type": "code",
   "execution_count": 21,
   "metadata": {},
   "outputs": [],
   "source": [
    "# function to calculate vader sentiment\n",
    "def vadersentimentanalysis(review):\n",
    "    vs = analyzer.polarity_scores(review)\n",
    "    return vs['compound']"
   ]
  },
  {
   "cell_type": "code",
   "execution_count": 22,
   "metadata": {},
   "outputs": [],
   "source": [
    "df['Sentiment'] = df['Lemma'].apply(vadersentimentanalysis)"
   ]
  },
  {
   "cell_type": "code",
   "execution_count": 23,
   "metadata": {},
   "outputs": [
    {
     "data": {
      "text/html": [
       "<div>\n",
       "<style scoped>\n",
       "    .dataframe tbody tr th:only-of-type {\n",
       "        vertical-align: middle;\n",
       "    }\n",
       "\n",
       "    .dataframe tbody tr th {\n",
       "        vertical-align: top;\n",
       "    }\n",
       "\n",
       "    .dataframe thead th {\n",
       "        text-align: right;\n",
       "    }\n",
       "</style>\n",
       "<table border=\"1\" class=\"dataframe\">\n",
       "  <thead>\n",
       "    <tr style=\"text-align: right;\">\n",
       "      <th></th>\n",
       "      <th>reviews</th>\n",
       "      <th>Cleaned Reviews</th>\n",
       "      <th>POS tagged</th>\n",
       "      <th>Lemma</th>\n",
       "      <th>Sentiment</th>\n",
       "      <th>Analysis</th>\n",
       "    </tr>\n",
       "  </thead>\n",
       "  <tbody>\n",
       "    <tr>\n",
       "      <th>0</th>\n",
       "      <td>We had a Premium Economy return flight Los A...</td>\n",
       "      <td>We had a Premium Economy return flight Los An...</td>\n",
       "      <td>[(Premium, a), (Economy, n), (return, n), (fli...</td>\n",
       "      <td>Premium Economy return flight Los Angeles Lo...</td>\n",
       "      <td>-0.3538</td>\n",
       "      <td>Negative</td>\n",
       "    </tr>\n",
       "    <tr>\n",
       "      <th>1</th>\n",
       "      <td>I should like to review my flight with Briti...</td>\n",
       "      <td>I should like to review my flight with Britis...</td>\n",
       "      <td>[(like, v), (review, v), (flight, n), (British...</td>\n",
       "      <td>like review flight British Airways Hannover ...</td>\n",
       "      <td>0.9867</td>\n",
       "      <td>Positive</td>\n",
       "    </tr>\n",
       "    <tr>\n",
       "      <th>2</th>\n",
       "      <td>We have flown with British Airways a few time...</td>\n",
       "      <td>We have flown with British Airways a few time...</td>\n",
       "      <td>[(flown, v), (British, n), (Airways, n), (time...</td>\n",
       "      <td>fly British Airways time last trip far bad e...</td>\n",
       "      <td>0.1531</td>\n",
       "      <td>Neutral</td>\n",
       "    </tr>\n",
       "    <tr>\n",
       "      <th>3</th>\n",
       "      <td>I sat in the plane at Vienna airport for thre...</td>\n",
       "      <td>I sat in the plane at Vienna airport for thre...</td>\n",
       "      <td>[(sat, v), (plane, n), (Vienna, n), (airport, ...</td>\n",
       "      <td>sit plane Vienna airport three hour take arr...</td>\n",
       "      <td>0.0000</td>\n",
       "      <td>Neutral</td>\n",
       "    </tr>\n",
       "    <tr>\n",
       "      <th>4</th>\n",
       "      <td>It is almost 11pm we were supposed to take of...</td>\n",
       "      <td>It is almost pm we were supposed to take off ...</td>\n",
       "      <td>[(almost, r), (pm, None), (supposed, v), (take...</td>\n",
       "      <td>almost pm suppose take still sit plane airpo...</td>\n",
       "      <td>-0.2023</td>\n",
       "      <td>Negative</td>\n",
       "    </tr>\n",
       "  </tbody>\n",
       "</table>\n",
       "</div>"
      ],
      "text/plain": [
       "                                             reviews  \\\n",
       "0    We had a Premium Economy return flight Los A...   \n",
       "1    I should like to review my flight with Briti...   \n",
       "2   We have flown with British Airways a few time...   \n",
       "3   I sat in the plane at Vienna airport for thre...   \n",
       "4   It is almost 11pm we were supposed to take of...   \n",
       "\n",
       "                                     Cleaned Reviews  \\\n",
       "0   We had a Premium Economy return flight Los An...   \n",
       "1   I should like to review my flight with Britis...   \n",
       "2   We have flown with British Airways a few time...   \n",
       "3   I sat in the plane at Vienna airport for thre...   \n",
       "4   It is almost pm we were supposed to take off ...   \n",
       "\n",
       "                                          POS tagged  \\\n",
       "0  [(Premium, a), (Economy, n), (return, n), (fli...   \n",
       "1  [(like, v), (review, v), (flight, n), (British...   \n",
       "2  [(flown, v), (British, n), (Airways, n), (time...   \n",
       "3  [(sat, v), (plane, n), (Vienna, n), (airport, ...   \n",
       "4  [(almost, r), (pm, None), (supposed, v), (take...   \n",
       "\n",
       "                                               Lemma  Sentiment  Analysis  \n",
       "0    Premium Economy return flight Los Angeles Lo...    -0.3538  Negative  \n",
       "1    like review flight British Airways Hannover ...     0.9867  Positive  \n",
       "2    fly British Airways time last trip far bad e...     0.1531   Neutral  \n",
       "3    sit plane Vienna airport three hour take arr...     0.0000   Neutral  \n",
       "4    almost pm suppose take still sit plane airpo...    -0.2023  Negative  "
      ]
     },
     "execution_count": 23,
     "metadata": {},
     "output_type": "execute_result"
    }
   ],
   "source": [
    "# function to analyse\n",
    "def vader_analysis(compound):\n",
    "    if compound >= 0.5:\n",
    "        return 'Positive'\n",
    "    elif compound < 0 :\n",
    "        return 'Negative'\n",
    "    else:\n",
    "        return 'Neutral'\n",
    "df['Analysis'] = df['Sentiment'].apply(vader_analysis)\n",
    "df.head()"
   ]
  },
  {
   "cell_type": "code",
   "execution_count": 24,
   "metadata": {},
   "outputs": [
    {
     "data": {
      "text/plain": [
       "Positive    471\n",
       "Negative    419\n",
       "Neutral     110\n",
       "Name: Analysis, dtype: int64"
      ]
     },
     "execution_count": 24,
     "metadata": {},
     "output_type": "execute_result"
    }
   ],
   "source": [
    "vader_counts = df['Analysis'].value_counts()\n",
    "vader_counts"
   ]
  },
  {
   "cell_type": "markdown",
   "metadata": {},
   "source": [
    "## Visual Representation "
   ]
  },
  {
   "cell_type": "code",
   "execution_count": 25,
   "metadata": {},
   "outputs": [
    {
     "data": {
      "text/plain": [
       "([<matplotlib.patches.Wedge at 0x1bf0abce070>,\n",
       "  <matplotlib.patches.Wedge at 0x1bf0abe4640>,\n",
       "  <matplotlib.patches.Wedge at 0x1bf0abe4d60>],\n",
       " [Text(0.10007827270333483, 1.0954379669030634, 'Positive'),\n",
       "  Text(-0.465228145639162, -0.9967761897763945, 'Negative'),\n",
       "  Text(1.2701889961293427, -0.45729630887634853, 'Neutral')],\n",
       " [Text(0.054588148747273545, 0.5975116183107618, '47.1%'),\n",
       "  Text(-0.25376080671227014, -0.5436961035143969, '41.9%'),\n",
       "  Text(0.799748627192549, -0.287927305588812, '11.0%')])"
      ]
     },
     "execution_count": 25,
     "metadata": {},
     "output_type": "execute_result"
    },
    {
     "data": {
      "image/png": "[encoded data removed]",
      "text/plain": [
       "<Figure size 1080x504 with 1 Axes>"
      ]
     },
     "metadata": {},
     "output_type": "display_data"
    }
   ],
   "source": [
    "import matplotlib.pyplot as plt\n",
    "%matplotlib inline\n",
    "plt.figure(figsize=(15,7))\n",
    "\n",
    "plt.subplot(1,3,2)\n",
    "plt.title(\"Reviews Analysis\")\n",
    "plt.pie(vader_counts.values, labels = vader_counts.index, explode = (0, 0, 0.25), autopct='%1.1f%%', shadow=False)"
   ]
  },
  {
   "cell_type": "code",
   "execution_count": 26,
   "metadata": {},
   "outputs": [],
   "source": [
    "df.to_csv(\"BA_reviews.csv\")"
   ]
  },
  {
   "cell_type": "markdown",
   "metadata": {},
   "source": [
    "# Word Cloud"
   ]
  },
  {
   "cell_type": "markdown",
   "metadata": {},
   "source": [
    "Word Cloud or Tag Clouds is a visualization technique for texts that are natively used for visualizing the tags or keywords from the websites"
   ]
  },
  {
   "cell_type": "code",
   "execution_count": 27,
   "metadata": {},
   "outputs": [
    {
     "data": {
      "image/png": "[encoded data removed]",
      "text/plain": [
       "<Figure size 864x864 with 1 Axes>"
      ]
     },
     "metadata": {
      "needs_background": "light"
     },
     "output_type": "display_data"
    }
   ],
   "source": [
    "from wordcloud import WordCloud, STOPWORDS\n",
    "stopwords = set(STOPWORDS)\n",
    "\n",
    "def show_wordcloud(data):\n",
    "    wordcloud = WordCloud(\n",
    "        background_color='white',\n",
    "        stopwords=stopwords,\n",
    "        max_words=100,\n",
    "        max_font_size=30,\n",
    "        scale=3,\n",
    "        random_state=1)\n",
    "\n",
    "    wordcloud=wordcloud.generate(str(data))\n",
    "\n",
    "    fig = plt.figure(1, figsize=(12, 12))\n",
    "    plt.axis('off')\n",
    "\n",
    "    plt.imshow(wordcloud)\n",
    "    plt.show()\n",
    "\n",
    "show_wordcloud(df.Lemma)"
   ]
  },
  {
   "cell_type": "code",
   "execution_count": null,
   "metadata": {},
   "outputs": [],
   "source": []
  }
 ],
 "metadata": {
  "kernelspec": {
   "display_name": "Python 3 (ipykernel)",
   "language": "python",
   "name": "python3"
  },
  "language_info": {
   "codemirror_mode": {
    "name": "ipython",
    "version": 3
   },
   "file_extension": ".py",
   "mimetype": "text/x-python",
   "name": "python",
   "nbconvert_exporter": "python",
   "pygments_lexer": "ipython3",
   "version": "3.9.12"
  },
  "vscode": {
   "interpreter": {
    "hash": "4f7924c4c56b083e0e50eadfe7ef592a7a8ef70df33a0047f82280e6be1afe15"
   }
  }
 },
 "nbformat": 4,
 "nbformat_minor": 2
}
